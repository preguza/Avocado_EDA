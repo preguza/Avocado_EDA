{
 "cells": [
  {
   "cell_type": "code",
   "execution_count": 6,
   "id": "df0326b0-9eb5-4b98-aeb0-e1f75fb113dd",
   "metadata": {},
   "outputs": [],
   "source": [
    "import numpy as np\n",
    "import pandas as pd\n",
    "import tensorflow_data_validation as tfdv\n",
    "\n",
    "# Disable display limits\n",
    "pd.set_option('display.max_rows', 100)\n",
    "pd.set_option('display.max_columns', 100)\n",
    "pd.set_option('display.width', None)\n",
    "pd.set_option('display.max_colwidth', None)\n",
    "\n",
    "# Disable scientific view for numbers\n",
    "pd.set_option('display.float_format', lambda x: '%.2f' % x) \n",
    "np.set_printoptions(suppress=True)\n",
    "\n",
    "from warnings import simplefilter\n",
    "# ignore warnings to clean up output cells\n",
    "simplefilter(\"ignore\")"
   ]
  },
  {
   "cell_type": "markdown",
   "id": "8ee2235b-50ce-4575-ae79-15544300f7ce",
   "metadata": {},
   "source": [
    "<div style=\"padding:15px;color:white;margin:0;font-size:200%;text-align:center;display:fill;border-radius:5px;background-color:#f6bd60;overflow:hidden;font-weight:500\">Lorem lopem</div>"
   ]
  },
  {
   "cell_type": "code",
   "execution_count": 6,
   "id": "f5e6e86e-060e-41e6-ad0f-1a0ea7b82691",
   "metadata": {},
   "outputs": [],
   "source": [
    "import numpy as np\n",
    "import pandas as pd\n",
    "import tensorflow_data_validation as tfdv\n",
    "\n",
    "# Disable display limits\n",
    "pd.set_option('display.max_rows', 100)\n",
    "pd.set_option('display.max_columns', 100)\n",
    "pd.set_option('display.width', None)\n",
    "pd.set_option('display.max_colwidth', None)\n",
    "\n",
    "# Disable scientific view for numbers\n",
    "pd.set_option('display.float_format', lambda x: '%.2f' % x) \n",
    "np.set_printoptions(suppress=True)\n",
    "\n",
    "from warnings import simplefilter\n",
    "# ignore warnings to clean up output cells\n",
    "simplefilter(\"ignore\")"
   ]
  },
  {
   "cell_type": "markdown",
   "id": "16b7dd09-5b39-4a34-83e4-13490250f7b4",
   "metadata": {},
   "source": [
    "<div style=\"padding:15px;color:white;margin:0;font-size:200%;text-align:center;display:fill;border-radius:5px;background-color:#f7ede2;overflow:hidden;font-weight:500\">Lorem lopem</div>"
   ]
  },
  {
   "cell_type": "code",
   "execution_count": 6,
   "id": "599a1f6c-a343-4e88-bddb-ef47a2870f1e",
   "metadata": {},
   "outputs": [],
   "source": [
    "import numpy as np\n",
    "import pandas as pd\n",
    "import tensorflow_data_validation as tfdv\n",
    "\n",
    "# Disable display limits\n",
    "pd.set_option('display.max_rows', 100)\n",
    "pd.set_option('display.max_columns', 100)\n",
    "pd.set_option('display.width', None)\n",
    "pd.set_option('display.max_colwidth', None)\n",
    "\n",
    "# Disable scientific view for numbers\n",
    "pd.set_option('display.float_format', lambda x: '%.2f' % x) \n",
    "np.set_printoptions(suppress=True)\n",
    "\n",
    "from warnings import simplefilter\n",
    "# ignore warnings to clean up output cells\n",
    "simplefilter(\"ignore\")"
   ]
  },
  {
   "cell_type": "markdown",
   "id": "79a31d17-3e9c-421e-8eb5-434fe65b6c09",
   "metadata": {},
   "source": [
    "<div style=\"padding:15px;color:white;margin:0;font-size:200%;text-align:center;display:fill;border-radius:5px;background-color:#f5cac3;overflow:hidden;font-weight:500\">Lorem lopem</div>"
   ]
  },
  {
   "cell_type": "code",
   "execution_count": 6,
   "id": "13a010e0-f526-43a0-8ecd-a2ac2c125752",
   "metadata": {},
   "outputs": [],
   "source": [
    "import numpy as np\n",
    "import pandas as pd\n",
    "import tensorflow_data_validation as tfdv\n",
    "\n",
    "# Disable display limits\n",
    "pd.set_option('display.max_rows', 100)\n",
    "pd.set_option('display.max_columns', 100)\n",
    "pd.set_option('display.width', None)\n",
    "pd.set_option('display.max_colwidth', None)\n",
    "\n",
    "# Disable scientific view for numbers\n",
    "pd.set_option('display.float_format', lambda x: '%.2f' % x) \n",
    "np.set_printoptions(suppress=True)\n",
    "\n",
    "from warnings import simplefilter\n",
    "# ignore warnings to clean up output cells\n",
    "simplefilter(\"ignore\")"
   ]
  },
  {
   "cell_type": "markdown",
   "id": "3d4839dc-3e8d-4baa-bff4-af0496fb9001",
   "metadata": {},
   "source": [
    "<div style=\"padding:15px;color:white;margin:0;font-size:200%;text-align:center;display:fill;border-radius:5px;background-color:#84a59d;overflow:hidden;font-weight:500\">Lorem lopem</div>"
   ]
  },
  {
   "cell_type": "code",
   "execution_count": 6,
   "id": "aec0c84a-52fb-431e-b0ee-2a73f5209749",
   "metadata": {},
   "outputs": [],
   "source": [
    "import numpy as np\n",
    "import pandas as pd\n",
    "import tensorflow_data_validation as tfdv\n",
    "\n",
    "# Disable display limits\n",
    "pd.set_option('display.max_rows', 100)\n",
    "pd.set_option('display.max_columns', 100)\n",
    "pd.set_option('display.width', None)\n",
    "pd.set_option('display.max_colwidth', None)\n",
    "\n",
    "# Disable scientific view for numbers\n",
    "pd.set_option('display.float_format', lambda x: '%.2f' % x) \n",
    "np.set_printoptions(suppress=True)\n",
    "\n",
    "from warnings import simplefilter\n",
    "# ignore warnings to clean up output cells\n",
    "simplefilter(\"ignore\")"
   ]
  },
  {
   "cell_type": "markdown",
   "id": "66b21ceb-dafb-489d-a1d3-6696299b73c7",
   "metadata": {},
   "source": [
    "<div style=\"padding:15px;color:white;margin:0;font-size:200%;text-align:center;display:fill;border-radius:5px;background-color:#f28482;overflow:hidden;font-weight:500\">Lorem lopem</div>"
   ]
  },
  {
   "cell_type": "code",
   "execution_count": 6,
   "id": "025e46bf-78c9-40e8-9bb1-b5121766d929",
   "metadata": {},
   "outputs": [],
   "source": [
    "import numpy as np\n",
    "import pandas as pd\n",
    "import tensorflow_data_validation as tfdv\n",
    "\n",
    "# Disable display limits\n",
    "pd.set_option('display.max_rows', 100)\n",
    "pd.set_option('display.max_columns', 100)\n",
    "pd.set_option('display.width', None)\n",
    "pd.set_option('display.max_colwidth', None)\n",
    "\n",
    "# Disable scientific view for numbers\n",
    "pd.set_option('display.float_format', lambda x: '%.2f' % x) \n",
    "np.set_printoptions(suppress=True)\n",
    "\n",
    "from warnings import simplefilter\n",
    "# ignore warnings to clean up output cells\n",
    "simplefilter(\"ignore\")"
   ]
  },
  {
   "cell_type": "markdown",
   "id": "b153fe63-e504-48ad-987c-828e52a08c06",
   "metadata": {},
   "source": [
    "-----"
   ]
  },
  {
   "cell_type": "markdown",
   "id": "13b97799-c5b9-4cf0-b27f-547fcaf77022",
   "metadata": {},
   "source": [
    "<div style=\"padding:15px;color:white;margin:0;font-size:200%;text-align:center;display:fill;border-radius:5px;background-color:#0081a7;overflow:hidden;font-weight:500\">Lorem lopem</div>"
   ]
  },
  {
   "cell_type": "code",
   "execution_count": 6,
   "id": "ad5a21ee-d566-46e9-955b-7a7475016014",
   "metadata": {},
   "outputs": [],
   "source": [
    "import numpy as np\n",
    "import pandas as pd\n",
    "import tensorflow_data_validation as tfdv\n",
    "\n",
    "# Disable display limits\n",
    "pd.set_option('display.max_rows', 100)\n",
    "pd.set_option('display.max_columns', 100)\n",
    "pd.set_option('display.width', None)\n",
    "pd.set_option('display.max_colwidth', None)\n",
    "\n",
    "# Disable scientific view for numbers\n",
    "pd.set_option('display.float_format', lambda x: '%.2f' % x) \n",
    "np.set_printoptions(suppress=True)\n",
    "\n",
    "from warnings import simplefilter\n",
    "# ignore warnings to clean up output cells\n",
    "simplefilter(\"ignore\")"
   ]
  },
  {
   "cell_type": "markdown",
   "id": "4036a253-42d1-4627-99d4-d48b540ab4da",
   "metadata": {},
   "source": [
    "<div style=\"padding:15px;color:white;margin:0;font-size:200%;text-align:center;display:fill;border-radius:5px;background-color:#00afb9;overflow:hidden;font-weight:500\">Lorem lopem</div>"
   ]
  },
  {
   "cell_type": "code",
   "execution_count": 6,
   "id": "dc840914-4006-412e-975f-9ce9720fff9b",
   "metadata": {},
   "outputs": [],
   "source": [
    "import numpy as np\n",
    "import pandas as pd\n",
    "import tensorflow_data_validation as tfdv\n",
    "\n",
    "# Disable display limits\n",
    "pd.set_option('display.max_rows', 100)\n",
    "pd.set_option('display.max_columns', 100)\n",
    "pd.set_option('display.width', None)\n",
    "pd.set_option('display.max_colwidth', None)\n",
    "\n",
    "# Disable scientific view for numbers\n",
    "pd.set_option('display.float_format', lambda x: '%.2f' % x) \n",
    "np.set_printoptions(suppress=True)\n",
    "\n",
    "from warnings import simplefilter\n",
    "# ignore warnings to clean up output cells\n",
    "simplefilter(\"ignore\")"
   ]
  },
  {
   "cell_type": "markdown",
   "id": "224ece5f-402c-4138-a206-8abffe468095",
   "metadata": {},
   "source": [
    "<div style=\"padding:15px;color:white;margin:0;font-size:200%;text-align:center;display:fill;border-radius:5px;background-color:#fdfcdc;overflow:hidden;font-weight:500\">Lorem lopem</div>"
   ]
  },
  {
   "cell_type": "code",
   "execution_count": 6,
   "id": "f7ff3723-70d8-4de2-9d66-735726ffff66",
   "metadata": {},
   "outputs": [],
   "source": [
    "import numpy as np\n",
    "import pandas as pd\n",
    "import tensorflow_data_validation as tfdv\n",
    "\n",
    "# Disable display limits\n",
    "pd.set_option('display.max_rows', 100)\n",
    "pd.set_option('display.max_columns', 100)\n",
    "pd.set_option('display.width', None)\n",
    "pd.set_option('display.max_colwidth', None)\n",
    "\n",
    "# Disable scientific view for numbers\n",
    "pd.set_option('display.float_format', lambda x: '%.2f' % x) \n",
    "np.set_printoptions(suppress=True)\n",
    "\n",
    "from warnings import simplefilter\n",
    "# ignore warnings to clean up output cells\n",
    "simplefilter(\"ignore\")"
   ]
  },
  {
   "cell_type": "markdown",
   "id": "cacdb843-0fbe-4bb6-a7ba-7bc089971b1b",
   "metadata": {},
   "source": [
    "<div style=\"padding:15px;color:white;margin:0;font-size:200%;text-align:center;display:fill;border-radius:5px;background-color:#fed9b7;overflow:hidden;font-weight:500\">Lorem lopem</div>"
   ]
  },
  {
   "cell_type": "code",
   "execution_count": 6,
   "id": "f0b2613a-badf-4a4c-8e97-2d7e47ee3462",
   "metadata": {},
   "outputs": [],
   "source": [
    "import numpy as np\n",
    "import pandas as pd\n",
    "import tensorflow_data_validation as tfdv\n",
    "\n",
    "# Disable display limits\n",
    "pd.set_option('display.max_rows', 100)\n",
    "pd.set_option('display.max_columns', 100)\n",
    "pd.set_option('display.width', None)\n",
    "pd.set_option('display.max_colwidth', None)\n",
    "\n",
    "# Disable scientific view for numbers\n",
    "pd.set_option('display.float_format', lambda x: '%.2f' % x) \n",
    "np.set_printoptions(suppress=True)\n",
    "\n",
    "from warnings import simplefilter\n",
    "# ignore warnings to clean up output cells\n",
    "simplefilter(\"ignore\")"
   ]
  },
  {
   "cell_type": "markdown",
   "id": "9a60d2c8-f636-4914-9d64-06690357b618",
   "metadata": {},
   "source": [
    "<div style=\"padding:15px;color:white;margin:0;font-size:200%;text-align:center;display:fill;border-radius:5px;background-color:#f07167;overflow:hidden;font-weight:500\">Lorem lopem</div>"
   ]
  },
  {
   "cell_type": "code",
   "execution_count": 6,
   "id": "17e44c64-e1e1-4584-9e34-16c99bd0ec4a",
   "metadata": {},
   "outputs": [],
   "source": [
    "import numpy as np\n",
    "import pandas as pd\n",
    "import tensorflow_data_validation as tfdv\n",
    "\n",
    "# Disable display limits\n",
    "pd.set_option('display.max_rows', 100)\n",
    "pd.set_option('display.max_columns', 100)\n",
    "pd.set_option('display.width', None)\n",
    "pd.set_option('display.max_colwidth', None)\n",
    "\n",
    "# Disable scientific view for numbers\n",
    "pd.set_option('display.float_format', lambda x: '%.2f' % x) \n",
    "np.set_printoptions(suppress=True)\n",
    "\n",
    "from warnings import simplefilter\n",
    "# ignore warnings to clean up output cells\n",
    "simplefilter(\"ignore\")"
   ]
  },
  {
   "cell_type": "markdown",
   "id": "df005cdb-f2a2-41dc-bad3-e648d088b6a2",
   "metadata": {},
   "source": [
    "-----"
   ]
  },
  {
   "cell_type": "markdown",
   "id": "b484f9b7-3052-40eb-aaa2-d54f07319d7a",
   "metadata": {},
   "source": [
    "<div style=\"padding:15px;color:white;margin:0;font-size:200%;text-align:center;display:fill;border-radius:5px;background-color:#5f0f40;overflow:hidden;font-weight:500\">Lorem lopem</div>"
   ]
  },
  {
   "cell_type": "code",
   "execution_count": 6,
   "id": "84e9a801-f7b5-46d6-a4a0-efb60ac12356",
   "metadata": {},
   "outputs": [],
   "source": [
    "import numpy as np\n",
    "import pandas as pd\n",
    "import tensorflow_data_validation as tfdv\n",
    "\n",
    "# Disable display limits\n",
    "pd.set_option('display.max_rows', 100)\n",
    "pd.set_option('display.max_columns', 100)\n",
    "pd.set_option('display.width', None)\n",
    "pd.set_option('display.max_colwidth', None)\n",
    "\n",
    "# Disable scientific view for numbers\n",
    "pd.set_option('display.float_format', lambda x: '%.2f' % x) \n",
    "np.set_printoptions(suppress=True)\n",
    "\n",
    "from warnings import simplefilter\n",
    "# ignore warnings to clean up output cells\n",
    "simplefilter(\"ignore\")"
   ]
  },
  {
   "cell_type": "markdown",
   "id": "e31b3a40-d600-4c1c-a041-d548d1abdc7a",
   "metadata": {},
   "source": [
    "<div style=\"padding:15px;color:white;margin:0;font-size:200%;text-align:center;display:fill;border-radius:5px;background-color:#9a031e;overflow:hidden;font-weight:500\">Lorem lopem</div>"
   ]
  },
  {
   "cell_type": "code",
   "execution_count": 6,
   "id": "56b23ffd-0d1f-4aa5-8422-d9a0adc8103d",
   "metadata": {},
   "outputs": [],
   "source": [
    "import numpy as np\n",
    "import pandas as pd\n",
    "import tensorflow_data_validation as tfdv\n",
    "\n",
    "# Disable display limits\n",
    "pd.set_option('display.max_rows', 100)\n",
    "pd.set_option('display.max_columns', 100)\n",
    "pd.set_option('display.width', None)\n",
    "pd.set_option('display.max_colwidth', None)\n",
    "\n",
    "# Disable scientific view for numbers\n",
    "pd.set_option('display.float_format', lambda x: '%.2f' % x) \n",
    "np.set_printoptions(suppress=True)\n",
    "\n",
    "from warnings import simplefilter\n",
    "# ignore warnings to clean up output cells\n",
    "simplefilter(\"ignore\")"
   ]
  },
  {
   "cell_type": "markdown",
   "id": "a3deba00-753d-4dc3-820f-2f25cec508e7",
   "metadata": {},
   "source": [
    "<div style=\"padding:15px;color:white;margin:0;font-size:200%;text-align:center;display:fill;border-radius:5px;background-color:#fb8b24;overflow:hidden;font-weight:500\">Lorem lopem</div>"
   ]
  },
  {
   "cell_type": "code",
   "execution_count": 6,
   "id": "162e2057-a6d4-4ce8-8ba0-8558fd8e0687",
   "metadata": {},
   "outputs": [],
   "source": [
    "import numpy as np\n",
    "import pandas as pd\n",
    "import tensorflow_data_validation as tfdv\n",
    "\n",
    "# Disable display limits\n",
    "pd.set_option('display.max_rows', 100)\n",
    "pd.set_option('display.max_columns', 100)\n",
    "pd.set_option('display.width', None)\n",
    "pd.set_option('display.max_colwidth', None)\n",
    "\n",
    "# Disable scientific view for numbers\n",
    "pd.set_option('display.float_format', lambda x: '%.2f' % x) \n",
    "np.set_printoptions(suppress=True)\n",
    "\n",
    "from warnings import simplefilter\n",
    "# ignore warnings to clean up output cells\n",
    "simplefilter(\"ignore\")"
   ]
  },
  {
   "cell_type": "markdown",
   "id": "16d194b9-2347-4e97-9dc8-e27ca0352358",
   "metadata": {},
   "source": [
    "<div style=\"padding:15px;color:white;margin:0;font-size:200%;text-align:center;display:fill;border-radius:5px;background-color:#e36414;overflow:hidden;font-weight:500\">Lorem lopem</div>"
   ]
  },
  {
   "cell_type": "code",
   "execution_count": 6,
   "id": "df82655b-a081-4994-ac75-35bfa73a194b",
   "metadata": {},
   "outputs": [],
   "source": [
    "import numpy as np\n",
    "import pandas as pd\n",
    "import tensorflow_data_validation as tfdv\n",
    "\n",
    "# Disable display limits\n",
    "pd.set_option('display.max_rows', 100)\n",
    "pd.set_option('display.max_columns', 100)\n",
    "pd.set_option('display.width', None)\n",
    "pd.set_option('display.max_colwidth', None)\n",
    "\n",
    "# Disable scientific view for numbers\n",
    "pd.set_option('display.float_format', lambda x: '%.2f' % x) \n",
    "np.set_printoptions(suppress=True)\n",
    "\n",
    "from warnings import simplefilter\n",
    "# ignore warnings to clean up output cells\n",
    "simplefilter(\"ignore\")"
   ]
  },
  {
   "cell_type": "markdown",
   "id": "741f1054-1b98-455c-83fe-8cf01a5d0de7",
   "metadata": {},
   "source": [
    "<div style=\"padding:15px;color:white;margin:0;font-size:200%;text-align:center;display:fill;border-radius:5px;background-color:#0f4c5c;overflow:hidden;font-weight:500\">Lorem lopem</div>"
   ]
  },
  {
   "cell_type": "code",
   "execution_count": 6,
   "id": "69535ab8-b482-4672-9102-8612fbc2f566",
   "metadata": {},
   "outputs": [],
   "source": [
    "import numpy as np\n",
    "import pandas as pd\n",
    "import tensorflow_data_validation as tfdv\n",
    "\n",
    "# Disable display limits\n",
    "pd.set_option('display.max_rows', 100)\n",
    "pd.set_option('display.max_columns', 100)\n",
    "pd.set_option('display.width', None)\n",
    "pd.set_option('display.max_colwidth', None)\n",
    "\n",
    "# Disable scientific view for numbers\n",
    "pd.set_option('display.float_format', lambda x: '%.2f' % x) \n",
    "np.set_printoptions(suppress=True)\n",
    "\n",
    "from warnings import simplefilter\n",
    "# ignore warnings to clean up output cells\n",
    "simplefilter(\"ignore\")"
   ]
  },
  {
   "cell_type": "markdown",
   "id": "3b4ad825-211a-4d33-8967-01f027472167",
   "metadata": {},
   "source": [
    "-----"
   ]
  },
  {
   "cell_type": "markdown",
   "id": "daab8393-05b3-40c8-9cb0-889e6a3f9b03",
   "metadata": {},
   "source": [
    "<div style=\"padding:15px;color:white;margin:0;font-size:200%;text-align:center;display:fill;border-radius:5px;background-color:#ffadad;overflow:hidden;font-weight:500\">Lorem lopem</div>"
   ]
  },
  {
   "cell_type": "code",
   "execution_count": 6,
   "id": "62b7e256-ea79-41a4-b39c-21c8094f746d",
   "metadata": {},
   "outputs": [],
   "source": [
    "import numpy as np\n",
    "import pandas as pd\n",
    "import tensorflow_data_validation as tfdv\n",
    "\n",
    "# Disable display limits\n",
    "pd.set_option('display.max_rows', 100)\n",
    "pd.set_option('display.max_columns', 100)\n",
    "pd.set_option('display.width', None)\n",
    "pd.set_option('display.max_colwidth', None)\n",
    "\n",
    "# Disable scientific view for numbers\n",
    "pd.set_option('display.float_format', lambda x: '%.2f' % x) \n",
    "np.set_printoptions(suppress=True)\n",
    "\n",
    "from warnings import simplefilter\n",
    "# ignore warnings to clean up output cells\n",
    "simplefilter(\"ignore\")"
   ]
  },
  {
   "cell_type": "markdown",
   "id": "d4d34e2a-1956-48aa-9584-c48c8056b5d1",
   "metadata": {},
   "source": [
    "<div style=\"padding:15px;color:white;margin:0;font-size:200%;text-align:center;display:fill;border-radius:5px;background-color:#ffadad;overflow:hidden;font-weight:500\">Lorem lopem</div>"
   ]
  },
  {
   "cell_type": "code",
   "execution_count": 6,
   "id": "2bb43ec3-9e49-4823-8721-14efc72e5259",
   "metadata": {},
   "outputs": [],
   "source": [
    "import numpy as np\n",
    "import pandas as pd\n",
    "import tensorflow_data_validation as tfdv\n",
    "\n",
    "# Disable display limits\n",
    "pd.set_option('display.max_rows', 100)\n",
    "pd.set_option('display.max_columns', 100)\n",
    "pd.set_option('display.width', None)\n",
    "pd.set_option('display.max_colwidth', None)\n",
    "\n",
    "# Disable scientific view for numbers\n",
    "pd.set_option('display.float_format', lambda x: '%.2f' % x) \n",
    "np.set_printoptions(suppress=True)\n",
    "\n",
    "from warnings import simplefilter\n",
    "# ignore warnings to clean up output cells\n",
    "simplefilter(\"ignore\")"
   ]
  },
  {
   "cell_type": "markdown",
   "id": "50cc8c05-17ed-47e1-bd3c-7f9afc5d2c46",
   "metadata": {},
   "source": [
    "<div style=\"padding:20px;color:white;margin:0;font-size:250%;text-align:center;display:fill;border-radius:5px;background-color:#8c1707;overflow:hidden;font-weight:500\">Lorem lopem</div>"
   ]
  },
  {
   "cell_type": "code",
   "execution_count": 6,
   "id": "3c8d4ac6-4b83-4653-abe8-b96712fdc5c7",
   "metadata": {},
   "outputs": [],
   "source": [
    "import numpy as np\n",
    "import pandas as pd\n",
    "import tensorflow_data_validation as tfdv\n",
    "\n",
    "# Disable display limits\n",
    "pd.set_option('display.max_rows', 100)\n",
    "pd.set_option('display.max_columns', 100)\n",
    "pd.set_option('display.width', None)\n",
    "pd.set_option('display.max_colwidth', None)\n",
    "\n",
    "# Disable scientific view for numbers\n",
    "pd.set_option('display.float_format', lambda x: '%.2f' % x) \n",
    "np.set_printoptions(suppress=True)\n",
    "\n",
    "from warnings import simplefilter\n",
    "# ignore warnings to clean up output cells\n",
    "simplefilter(\"ignore\")"
   ]
  },
  {
   "cell_type": "markdown",
   "id": "1e1ba60a-fff4-48ab-9078-08bf1cd3ffe1",
   "metadata": {},
   "source": [
    "<div style=\"padding:20px;color:white;margin:0;font-size:250%;text-align:center;display:fill;border-radius:5px;background-color:#8c1707;overflow:hidden;font-weight:500\">Lorem lopem</div>"
   ]
  },
  {
   "cell_type": "code",
   "execution_count": 6,
   "id": "693dc24d-0fe7-48c8-9bc3-ac61fcd51dd4",
   "metadata": {},
   "outputs": [],
   "source": [
    "import numpy as np\n",
    "import pandas as pd\n",
    "import tensorflow_data_validation as tfdv\n",
    "\n",
    "# Disable display limits\n",
    "pd.set_option('display.max_rows', 100)\n",
    "pd.set_option('display.max_columns', 100)\n",
    "pd.set_option('display.width', None)\n",
    "pd.set_option('display.max_colwidth', None)\n",
    "\n",
    "# Disable scientific view for numbers\n",
    "pd.set_option('display.float_format', lambda x: '%.2f' % x) \n",
    "np.set_printoptions(suppress=True)\n",
    "\n",
    "from warnings import simplefilter\n",
    "# ignore warnings to clean up output cells\n",
    "simplefilter(\"ignore\")"
   ]
  },
  {
   "cell_type": "markdown",
   "id": "58803871-92fb-49cb-823b-2475e4669fd6",
   "metadata": {},
   "source": [
    "<div style=\"padding:20px;color:white;margin:0;font-size:250%;text-align:center;display:fill;border-radius:5px;background-color:#8c1707;overflow:hidden;font-weight:500\">Lorem lopem</div>"
   ]
  },
  {
   "cell_type": "code",
   "execution_count": 6,
   "id": "fd4f6f8d-8ae5-41d6-8d4a-f63280c1388b",
   "metadata": {},
   "outputs": [],
   "source": [
    "import numpy as np\n",
    "import pandas as pd\n",
    "import tensorflow_data_validation as tfdv\n",
    "\n",
    "# Disable display limits\n",
    "pd.set_option('display.max_rows', 100)\n",
    "pd.set_option('display.max_columns', 100)\n",
    "pd.set_option('display.width', None)\n",
    "pd.set_option('display.max_colwidth', None)\n",
    "\n",
    "# Disable scientific view for numbers\n",
    "pd.set_option('display.float_format', lambda x: '%.2f' % x) \n",
    "np.set_printoptions(suppress=True)\n",
    "\n",
    "from warnings import simplefilter\n",
    "# ignore warnings to clean up output cells\n",
    "simplefilter(\"ignore\")"
   ]
  },
  {
   "cell_type": "markdown",
   "id": "dc2bfc01-c825-433b-a4a8-d4659863c6b5",
   "metadata": {},
   "source": [
    "<div style=\"padding:20px;color:white;margin:0;font-size:250%;text-align:center;display:fill;border-radius:5px;background-color:#8c1707;overflow:hidden;font-weight:500\">Lorem lopem</div>"
   ]
  },
  {
   "cell_type": "code",
   "execution_count": 6,
   "id": "f57be7f0-68a5-45e2-8439-0d1574a371ab",
   "metadata": {},
   "outputs": [],
   "source": [
    "import numpy as np\n",
    "import pandas as pd\n",
    "import tensorflow_data_validation as tfdv\n",
    "\n",
    "# Disable display limits\n",
    "pd.set_option('display.max_rows', 100)\n",
    "pd.set_option('display.max_columns', 100)\n",
    "pd.set_option('display.width', None)\n",
    "pd.set_option('display.max_colwidth', None)\n",
    "\n",
    "# Disable scientific view for numbers\n",
    "pd.set_option('display.float_format', lambda x: '%.2f' % x) \n",
    "np.set_printoptions(suppress=True)\n",
    "\n",
    "from warnings import simplefilter\n",
    "# ignore warnings to clean up output cells\n",
    "simplefilter(\"ignore\")"
   ]
  },
  {
   "cell_type": "markdown",
   "id": "3cf55d2b-b16f-416b-940a-714fc194e5b9",
   "metadata": {},
   "source": [
    "<div style=\"padding:20px;color:white;margin:0;font-size:250%;text-align:center;display:fill;border-radius:5px;background-color:#8c1707;overflow:hidden;font-weight:500\">Lorem lopem</div>"
   ]
  },
  {
   "cell_type": "code",
   "execution_count": 6,
   "id": "648c9623-12a5-4a91-9ad5-873435237eb7",
   "metadata": {},
   "outputs": [],
   "source": [
    "import numpy as np\n",
    "import pandas as pd\n",
    "import tensorflow_data_validation as tfdv\n",
    "\n",
    "# Disable display limits\n",
    "pd.set_option('display.max_rows', 100)\n",
    "pd.set_option('display.max_columns', 100)\n",
    "pd.set_option('display.width', None)\n",
    "pd.set_option('display.max_colwidth', None)\n",
    "\n",
    "# Disable scientific view for numbers\n",
    "pd.set_option('display.float_format', lambda x: '%.2f' % x) \n",
    "np.set_printoptions(suppress=True)\n",
    "\n",
    "from warnings import simplefilter\n",
    "# ignore warnings to clean up output cells\n",
    "simplefilter(\"ignore\")"
   ]
  },
  {
   "cell_type": "markdown",
   "id": "cb770302-f0b0-4175-8663-97551f550bf0",
   "metadata": {},
   "source": []
  },
  {
   "cell_type": "markdown",
   "id": "dfa5808b-9aab-4630-9587-8aa0a260dc77",
   "metadata": {},
   "source": []
  },
  {
   "cell_type": "markdown",
   "id": "96e4e125-cae6-4dfc-8ea7-01bcc278bf99",
   "metadata": {},
   "source": []
  },
  {
   "cell_type": "markdown",
   "id": "ebe2700e-f597-4afd-b658-7938bfb90f36",
   "metadata": {},
   "source": []
  },
  {
   "cell_type": "markdown",
   "id": "81c56de4-ce54-46db-ab79-a69bdacc6a9b",
   "metadata": {},
   "source": []
  }
 ],
 "metadata": {
  "kernelspec": {
   "display_name": "Python 3 (ipykernel)",
   "language": "python",
   "name": "python3"
  },
  "language_info": {
   "codemirror_mode": {
    "name": "ipython",
    "version": 3
   },
   "file_extension": ".py",
   "mimetype": "text/x-python",
   "name": "python",
   "nbconvert_exporter": "python",
   "pygments_lexer": "ipython3",
   "version": "3.9.12"
  }
 },
 "nbformat": 4,
 "nbformat_minor": 5
}
